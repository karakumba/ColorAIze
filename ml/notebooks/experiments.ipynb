{
 "cells": [
  {
   "metadata": {},
   "cell_type": "code",
   "outputs": [],
   "execution_count": null,
   "source": [
    "# Это будет Jupyter notebook с кодом для экспериментов\n",
    "# Содержит:\n",
    "# - Загрузку и исследование данных\n",
    "# - Визуализацию результатов\n",
    "# - Эксперименты с разными моделями\n",
    "# - Сравнение метрик качества"
   ],
   "id": "87137e370b1bcc12"
  }
 ],
 "metadata": {},
 "nbformat": 4,
 "nbformat_minor": 5
}
